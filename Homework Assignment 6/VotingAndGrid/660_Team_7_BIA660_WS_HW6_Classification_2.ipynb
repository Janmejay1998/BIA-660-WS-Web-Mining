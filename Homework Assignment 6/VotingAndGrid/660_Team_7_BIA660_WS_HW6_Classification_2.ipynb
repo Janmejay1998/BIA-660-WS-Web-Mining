{
 "cells": [
  {
   "cell_type": "markdown",
   "id": "5e4dad9e",
   "metadata": {},
   "source": [
    "###### TEAM: 660 TEAM 7 <br> TEAM MEMBERS NAME: JANMEJAY MOHANTY, PRANITA KHAMKAR, DIVYA SAGAR REDDY, KRISHNA SAI ANJANA SUNKARA <br> COURSE: BIA 660 WS <br> COURSE NAME: WEB MINING <br> TEAM MEMBERS CWID'S: 20009315, 10476826, 10476472, 20008932 <br> TEAM MEMBERS EMAIL'S: JMOHANTY@STEVENS.EDU, PKHAMKAR@STEVENS.EDU, DREDDY4@STEVENS.EDU, ksunkara@stevens.edu <br> PROGRAM: Classification 2"
   ]
  },
  {
   "cell_type": "code",
   "execution_count": 11,
   "id": "9f1f0fdb",
   "metadata": {},
   "outputs": [],
   "source": [
    "\n",
    "from sklearn.feature_extraction.text import CountVectorizer, TfidfVectorizer\n",
    "from sklearn.metrics import accuracy_score\n",
    "from sklearn import svm\n",
    "from sklearn.neighbors import KNeighborsClassifier\n",
    "from nltk.corpus import stopwords\n",
    "from sklearn.model_selection import GridSearchCV\n",
    "from sklearn.ensemble import VotingClassifier\n",
    "from sklearn.linear_model import LogisticRegression, SGDClassifier\n",
    "from sklearn.tree import DecisionTreeClassifier\n"
   ]
  },
  {
   "cell_type": "code",
   "execution_count": 12,
   "id": "9675006d",
   "metadata": {},
   "outputs": [],
   "source": [
    "\n",
    "#read the reviews and their polarities from a given file\n",
    "def loadData(fname):\n",
    "    reviews=[]\n",
    "    labels=[]\n",
    "    f=open(fname)\n",
    "    for line in f:\n",
    "        review,rating=line.strip().split('\\t')  \n",
    "        reviews.append(review.lower())    \n",
    "        labels.append(rating)\n",
    "    f.close()\n",
    "    return reviews,labels\n"
   ]
  },
  {
   "cell_type": "code",
   "execution_count": 13,
   "id": "2de27b72",
   "metadata": {},
   "outputs": [],
   "source": [
    "\n",
    "rev_train,labels_train=loadData('reviews_train.txt')\n",
    "rev_test,labels_test=loadData('reviews_test.txt')\n",
    "\n",
    "#Build a counter based on the training dataset\n",
    "#counter = CountVectorizer(stop_words=stopwords.words('english'))\n",
    "counter = TfidfVectorizer(sublinear_tf=True,ngram_range=(1,2))\n",
    "counter.fit(rev_train)\n",
    "\n",
    "#count the number of times each term appears in a document and transform each doc into a count vector\n",
    "counts_train = counter.transform(rev_train)#transform the training data\n",
    "counts_test = counter.transform(rev_test)#transform the testing data\n",
    "\n",
    "KNN_classifier=KNeighborsClassifier()\n",
    "LREG_classifier=LogisticRegression(solver='liblinear')\n",
    "DT_classifier = DecisionTreeClassifier()\n",
    "SGD_classifier = SGDClassifier(tol=None)\n",
    "SVM_classifier = svm.SVC(C=1.4, kernel='linear', gamma='auto')\n",
    "\n",
    "predictors=[('knn',KNN_classifier),('lreg',LREG_classifier),('dt',DT_classifier),('sgd',SGD_classifier),('svm',SVM_classifier)]\n",
    "\n"
   ]
  },
  {
   "cell_type": "code",
   "execution_count": 14,
   "id": "e2d9ef15",
   "metadata": {},
   "outputs": [
    {
     "name": "stdout",
     "output_type": "stream",
     "text": [
      "{'n_neighbors': 11, 'weights': 'distance'}\n"
     ]
    }
   ],
   "source": [
    "\n",
    "#=======================================================================================\n",
    "#build the parameter grid\n",
    "KNN_grid = [{'n_neighbors': [1,3,5,7,9,11,13,15,17], 'weights':['uniform','distance']}]\n",
    "\n",
    "#build a grid search to find the best parameters\n",
    "gridsearchKNN = GridSearchCV(KNN_classifier, KNN_grid, cv=5)\n",
    "\n",
    "#run the grid search\n",
    "gridsearchKNN.fit(counts_train,labels_train)\n",
    "\n",
    "#=======================================================================================\n",
    "\n",
    "print(gridsearchKNN.best_params_)\n",
    "\n"
   ]
  },
  {
   "cell_type": "code",
   "execution_count": 15,
   "id": "c539f88f",
   "metadata": {},
   "outputs": [
    {
     "name": "stdout",
     "output_type": "stream",
     "text": [
      "{'criterion': 'gini', 'max_depth': 7}\n"
     ]
    }
   ],
   "source": [
    "\n",
    "#build the parameter grid\n",
    "DT_grid = [{'max_depth': [3,4,5,6,7,8,9,10,11,12],'criterion':['gini','entropy']}]\n",
    "\n",
    "#build a grid search to find the best parameters\n",
    "gridsearchDT  = GridSearchCV(DT_classifier, DT_grid, cv=5)\n",
    "\n",
    "#run the grid search\n",
    "gridsearchDT.fit(counts_train,labels_train)\n",
    "\n",
    "print(gridsearchDT.best_params_)\n",
    "\n"
   ]
  },
  {
   "cell_type": "code",
   "execution_count": 16,
   "id": "00552d82",
   "metadata": {},
   "outputs": [
    {
     "name": "stdout",
     "output_type": "stream",
     "text": [
      "{'C': 2, 'penalty': 'l2'}\n"
     ]
    }
   ],
   "source": [
    "\n",
    "#=======================================================================================\n",
    "\n",
    "#build the parameter grid\n",
    "LREG_grid = [ {'C':[0.5,1,1.5,2],'penalty':['l1','l2']}]\n",
    "\n",
    "#build a grid search to find the best parameters\n",
    "gridsearchLREG  = GridSearchCV(LREG_classifier, LREG_grid, cv=5)\n",
    "\n",
    "#run the grid search\n",
    "gridsearchLREG.fit(counts_train,labels_train)\n",
    "\n",
    "#=======================================================================================\n",
    "\n",
    "print(gridsearchLREG.best_params_)\n",
    "\n"
   ]
  },
  {
   "cell_type": "code",
   "execution_count": 17,
   "id": "9ef8d684",
   "metadata": {},
   "outputs": [
    {
     "name": "stdout",
     "output_type": "stream",
     "text": [
      "{'alpha': 0.0001, 'loss': 'hinge', 'max_iter': 1000, 'penalty': 'l2'}\n"
     ]
    }
   ],
   "source": [
    "#=======================================================================================\n",
    "\n",
    "#build the parameter grid\n",
    "SGD_grid = [ {'loss':['log_loss','hinge'],'penalty':['l1','l2'], 'alpha':[0.1,0.01,0.001,0.0001], 'max_iter':[1000]}]\n",
    "\n",
    "#build a grid search to find the best parameters\n",
    "gridsearchSGD  = GridSearchCV(SGD_classifier, SGD_grid, cv=5)\n",
    "\n",
    "#run the grid search\n",
    "gridsearchSGD.fit(counts_train,labels_train)\n",
    "\n",
    "#=======================================================================================\n",
    "\n",
    "print(gridsearchSGD.best_params_)"
   ]
  },
  {
   "cell_type": "code",
   "execution_count": 18,
   "id": "5699a244",
   "metadata": {},
   "outputs": [
    {
     "name": "stdout",
     "output_type": "stream",
     "text": [
      "{'C': 1.6, 'gamma': 'scale', 'kernel': 'linear'}\n"
     ]
    }
   ],
   "source": [
    "#=======================================================================================\n",
    "\n",
    "#build the parameter grid\n",
    "SVM_grid = [ {'C':[0.5,1.2,1.4,1.6,1.8,2],'kernel':['linear','rbf'],'gamma':['scale','auto']}]\n",
    "\n",
    "#build a grid search to find the best parameters\n",
    "gridsearchSVM  = GridSearchCV(SVM_classifier, SVM_grid, cv=5)\n",
    "\n",
    "#run the grid search\n",
    "gridsearchSVM.fit(counts_train,labels_train)\n",
    "\n",
    "#=======================================================================================\n",
    "\n",
    "print(gridsearchSVM.best_params_)"
   ]
  },
  {
   "cell_type": "code",
   "execution_count": 20,
   "id": "ae800739",
   "metadata": {},
   "outputs": [
    {
     "name": "stdout",
     "output_type": "stream",
     "text": [
      "92.0\n"
     ]
    }
   ],
   "source": [
    "VT=VotingClassifier(predictors)\n",
    "\n",
    "VT.fit(counts_train,labels_train)\n",
    "\n",
    "#use the VT classifier to predict\n",
    "predicted=VT.predict(counts_test)\n",
    "\n",
    "#print the accuracy\n",
    "print (accuracy_score(predicted,labels_test)*100)"
   ]
  }
 ],
 "metadata": {
  "kernelspec": {
   "display_name": "Python 3.10.5 64-bit",
   "language": "python",
   "name": "python3"
  },
  "language_info": {
   "codemirror_mode": {
    "name": "ipython",
    "version": 3
   },
   "file_extension": ".py",
   "mimetype": "text/x-python",
   "name": "python",
   "nbconvert_exporter": "python",
   "pygments_lexer": "ipython3",
   "version": "3.10.5"
  },
  "vscode": {
   "interpreter": {
    "hash": "79f58b2da1d0ebeef0843b536b913fe6ecf5d6027e7f201d25bafe70c90b7910"
   }
  }
 },
 "nbformat": 4,
 "nbformat_minor": 5
}
