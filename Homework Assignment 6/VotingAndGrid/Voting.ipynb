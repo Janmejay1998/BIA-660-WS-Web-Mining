{
 "cells": [
  {
   "cell_type": "code",
   "execution_count": 25,
   "id": "d0eaa763",
   "metadata": {},
   "outputs": [],
   "source": [
    "from sklearn.feature_extraction.text import CountVectorizer, TfidfVectorizer\n",
    "from sklearn.metrics import accuracy_score\n",
    "from sklearn import svm\n",
    "from sklearn.tree import DecisionTreeClassifier\n",
    "from sklearn.neighbors import KNeighborsClassifier\n",
    "from sklearn.ensemble import VotingClassifier\n",
    "from sklearn.linear_model import LogisticRegression, SGDClassifier\n"
   ]
  },
  {
   "cell_type": "code",
   "execution_count": 26,
   "id": "4cc4501a",
   "metadata": {},
   "outputs": [],
   "source": [
    "\n",
    "#read the reviews and their polarities from a given file\n",
    "def loadData(fname):\n",
    "    reviews=[]\n",
    "    labels=[]\n",
    "    f=open(fname)\n",
    "    for line in f:\n",
    "        review,rating=line.strip().split('\\t')  \n",
    "        reviews.append(review.lower())    \n",
    "        labels.append(int(rating))\n",
    "    f.close()\n",
    "    return reviews,labels\n"
   ]
  },
  {
   "cell_type": "code",
   "execution_count": 27,
   "id": "cc3bd32a",
   "metadata": {},
   "outputs": [],
   "source": [
    "\n",
    "rev_train,labels_train=loadData('reviews_train.txt')\n",
    "rev_test,labels_test=loadData('reviews_test.txt')\n",
    "\n",
    "\n",
    "#Build a counter based on the training dataset\n",
    "#counter = CountVectorizer()\n",
    "counter = TfidfVectorizer(sublinear_tf=True,ngram_range=(1,2))\n",
    "counter.fit(rev_train)\n",
    "\n",
    "\n",
    "#count the number of times each term appears in a document and transform each doc into a count vector\n",
    "counts_train = counter.transform(rev_train)#transform the training data\n",
    "counts_test = counter.transform(rev_test)#transform the testing data\n"
   ]
  },
  {
   "cell_type": "code",
   "execution_count": 36,
   "id": "631fa0e0",
   "metadata": {},
   "outputs": [
    {
     "name": "stdout",
     "output_type": "stream",
     "text": [
      "91.0\n"
     ]
    }
   ],
   "source": [
    "\n",
    "#train classifier\n",
    "model1 = DecisionTreeClassifier()\n",
    "model2 = KNeighborsClassifier()\n",
    "model3= LogisticRegression(solver='liblinear')\n",
    "model4 = SGDClassifier(loss='hinge',penalty='l2',alpha=0.001,max_iter=1000,tol=None)\n",
    "model5 = svm.SVC(C=1.4, kernel='linear', gamma='auto')\n",
    "\n",
    "predictors=[('nb',model1),('dt',model2),('lreg',model3),('sgd',model4),('svm',model5)]\n",
    "\n",
    "VT=VotingClassifier(predictors)\n",
    "\n",
    "#train all classifier on the same datasets\n",
    "VT.fit(counts_train,labels_train)\n",
    "\n",
    "#use hard voting to predict (majority voting)\n",
    "pred=VT.predict(counts_test)\n",
    "\n",
    "#print accuracy\n",
    "print (accuracy_score(pred,labels_test)*100)\n",
    "\n"
   ]
  }
 ],
 "metadata": {
  "kernelspec": {
   "display_name": "Python 3.10.5 64-bit",
   "language": "python",
   "name": "python3"
  },
  "language_info": {
   "codemirror_mode": {
    "name": "ipython",
    "version": 3
   },
   "file_extension": ".py",
   "mimetype": "text/x-python",
   "name": "python",
   "nbconvert_exporter": "python",
   "pygments_lexer": "ipython3",
   "version": "3.10.5"
  },
  "vscode": {
   "interpreter": {
    "hash": "79f58b2da1d0ebeef0843b536b913fe6ecf5d6027e7f201d25bafe70c90b7910"
   }
  }
 },
 "nbformat": 4,
 "nbformat_minor": 5
}
