{
 "cells": [
  {
   "cell_type": "code",
   "execution_count": 116,
   "id": "c90df2ec",
   "metadata": {},
   "outputs": [],
   "source": [
    "import pandas as pd\n",
    "from sklearn.model_selection import train_test_split\n",
    "from sklearn.linear_model import LogisticRegression\n",
    "from sklearn.feature_extraction.text import CountVectorizer, TfidfTransformer\n",
    "from sklearn.linear_model import SGDClassifier\n",
    "from sklearn.tree import DecisionTreeClassifier\n",
    "from sklearn.svm import SVC\n",
    "from sklearn.linear_model import LogisticRegression\n",
    "from sklearn import naive_bayes, svm\n",
    "from sklearn.metrics import accuracy_score\n",
    "from sklearn.ensemble import RandomForestClassifier\n",
    "from nltk.corpus import stopwords"
   ]
  },
  {
   "cell_type": "code",
   "execution_count": 117,
   "id": "793f4fcc",
   "metadata": {},
   "outputs": [
    {
     "name": "stderr",
     "output_type": "stream",
     "text": [
      "C:\\Users\\Janmejay Mohanty\\AppData\\Local\\Temp\\ipykernel_31172\\3247767921.py:14: FutureWarning: The default value of regex will change from True to False in a future version.\n",
      "  df.Text = df.Text.str.replace('[#,@,&]', '')\n",
      "C:\\Users\\Janmejay Mohanty\\AppData\\Local\\Temp\\ipykernel_31172\\3247767921.py:16: FutureWarning: The default value of regex will change from True to False in a future version.\n",
      "  df.Text = df.Text.str.replace('\\d*','')\n",
      "C:\\Users\\Janmejay Mohanty\\AppData\\Local\\Temp\\ipykernel_31172\\3247767921.py:18: FutureWarning: The default value of regex will change from True to False in a future version.\n",
      "  df.Text = df.Text.str.replace('w{3}','')\n",
      "C:\\Users\\Janmejay Mohanty\\AppData\\Local\\Temp\\ipykernel_31172\\3247767921.py:20: FutureWarning: The default value of regex will change from True to False in a future version.\n",
      "  df.Text = df.Text.str.replace(\"http\\S+\", \"\")\n",
      "C:\\Users\\Janmejay Mohanty\\AppData\\Local\\Temp\\ipykernel_31172\\3247767921.py:22: FutureWarning: The default value of regex will change from True to False in a future version.\n",
      "  df.Text = df.Text.str.replace('\\s+', ' ')\n",
      "C:\\Users\\Janmejay Mohanty\\AppData\\Local\\Temp\\ipykernel_31172\\3247767921.py:24: FutureWarning: The default value of regex will change from True to False in a future version.\n",
      "  df.Text = df.Text.str.replace(r'\\s+[a-zA-Z]\\s+', '')\n"
     ]
    }
   ],
   "source": [
    "# read data from csv file\n",
    "df = pd.read_csv(\"data.csv\")\n",
    "\n",
    "droplist = ['full-flop', 'no-flip','half-flip','barely-true', 'half-true']\n",
    "df = df[~df[\"Truthfulness Category\"].isin(droplist)]\n",
    "# convert labels to binary values\n",
    "df = df.replace(['mostly-true'],'true')\n",
    "df = df.replace(['pants-fire'],'false')\n",
    "df = df.replace(['true'], 1)\n",
    "df = df.replace(['false'], 0)\n",
    "\n",
    "#  Preprocess train dataset\n",
    "# remove special characters from text column\n",
    "df.Text = df.Text.str.replace('[#,@,&]', '')\n",
    "# Remove digits\n",
    "df.Text = df.Text.str.replace('\\d*','')\n",
    "#Remove www\n",
    "df.Text = df.Text.str.replace('w{3}','')\n",
    "# remove urls\n",
    "df.Text = df.Text.str.replace(\"http\\S+\", \"\")\n",
    "# remove multiple spaces with single space\n",
    "df.Text = df.Text.str.replace('\\s+', ' ')\n",
    "#remove all single characters\n",
    "df.Text = df.Text.str.replace(r'\\s+[a-zA-Z]\\s+', '')\n",
    "stop_words = stopwords.words('english')\n",
    "# Remove english stopwords\n",
    "df['Text'] = df['Text'].apply(lambda x: ' '.join([word for word in x.split() if word not in (stop_words)]))\n"
   ]
  },
  {
   "cell_type": "code",
   "execution_count": 118,
   "id": "7adea6fe",
   "metadata": {},
   "outputs": [
    {
     "name": "stdout",
     "output_type": "stream",
     "text": [
      "(2352,) (1008,) (2352,) (1008,)\n"
     ]
    },
    {
     "data": {
      "text/plain": [
       "<2352x6294 sparse matrix of type '<class 'numpy.int64'>'\n",
       "\twith 25358 stored elements in Compressed Sparse Row format>"
      ]
     },
     "execution_count": 118,
     "metadata": {},
     "output_type": "execute_result"
    }
   ],
   "source": [
    "# split data into training and testing sets\n",
    "X_train, X_test, y_train, y_test = train_test_split(df[\"Text\"], df[\"Truthfulness Category\"], test_size=0.3, random_state=42)\n",
    "print(X_train.shape ,X_test.shape, y_train.shape, y_test.shape)\n",
    "counter = CountVectorizer()\n",
    "counter.fit_transform(X_train)"
   ]
  },
  {
   "cell_type": "code",
   "execution_count": 119,
   "id": "2a50e63c",
   "metadata": {},
   "outputs": [],
   "source": [
    "#count the number of times each term appears in a document and transform each doc into a count vector\n",
    "counts_train = counter.transform(X_train)#transform the training data\n",
    "counts_test = counter.transform(X_test)#transform the testing data"
   ]
  },
  {
   "cell_type": "code",
   "execution_count": 120,
   "id": "7afd24ba",
   "metadata": {},
   "outputs": [
    {
     "name": "stdout",
     "output_type": "stream",
     "text": [
      "Accuracy: 0.6845238095238095\n"
     ]
    }
   ],
   "source": [
    "# train SVC classifier\n",
    "clf3 =  SVC()\n",
    "clf3.fit(counts_train, y_train)\n",
    "\n",
    "# evaluate classifier's accuracy\n",
    "accuracy = clf3.score(counts_test, y_test)\n",
    "print(\"Accuracy:\", accuracy)"
   ]
  }
 ],
 "metadata": {
  "kernelspec": {
   "display_name": "Python 3",
   "language": "python",
   "name": "python3"
  },
  "language_info": {
   "codemirror_mode": {
    "name": "ipython",
    "version": 3
   },
   "file_extension": ".py",
   "mimetype": "text/x-python",
   "name": "python",
   "nbconvert_exporter": "python",
   "pygments_lexer": "ipython3",
   "version": "3.10.5"
  },
  "vscode": {
   "interpreter": {
    "hash": "79f58b2da1d0ebeef0843b536b913fe6ecf5d6027e7f201d25bafe70c90b7910"
   }
  }
 },
 "nbformat": 4,
 "nbformat_minor": 5
}
