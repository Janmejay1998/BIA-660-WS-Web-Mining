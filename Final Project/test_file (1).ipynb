{
 "cells": [
  {
   "cell_type": "code",
   "execution_count": 19,
   "metadata": {},
   "outputs": [],
   "source": [
    "from selenium import webdriver\n",
    "from selenium.webdriver.chrome.service import Service\n",
    "from webdriver_manager.chrome import ChromeDriverManager\n",
    "from selenium.common.exceptions import NoSuchElementException\n",
    "from selenium.common.exceptions import TimeoutException\n",
    "from selenium.webdriver.support.ui import WebDriverWait\n",
    "from selenium.webdriver.support import expected_conditions as EC\n",
    "from selenium.webdriver.common.by import By\n",
    "from textblob import TextBlob\n",
    "import csv,re,time"
   ]
  },
  {
   "cell_type": "code",
   "execution_count": 20,
   "metadata": {},
   "outputs": [],
   "source": [
    "def get_platform(text,platform_value):\n",
    "    blob = TextBlob(text)\n",
    "    for word,tag in blob.tags:\n",
    "        #print(word,tag,\"\\n\")\n",
    "        if tag==\"NN\":\n",
    "            if word!=\"stated\":\n",
    "                platform_value=word\n",
    "    Months=[\"January\",\"February\",\"March\",\"April\",\"May\",\"June\",\"July\",\"August\",\"September\",\"October\",\"November\",\"December\",\"january\",\"february\",\"march\",\"april\",\"may\",\"june\",\"july\",\"august\",\"september\",\"october\",\"november\",\"december\"]\n",
    "    for i in blob.noun_phrases:\n",
    "        if i not in Months:\n",
    "            platform_value=i\n",
    "    return platform_value"
   ]
  },
  {
   "cell_type": "code",
   "execution_count": 21,
   "metadata": {},
   "outputs": [],
   "source": [
    "def get_links_from_page(writer:csv.writer):\n",
    "\n",
    "    results=driver.find_elements(by=By.CSS_SELECTOR,value='article[class*=\"m-statement m-statement--is-medium m-statement\"]')\n",
    "    \n",
    "    for result in results: # for each story div\n",
    "        \n",
    "        date,platform,text,name,truth='NA','NA','NA','NA','NA'\n",
    "       \n",
    "        try: # try to get the name\n",
    "            name_box=result.find_element(by=By.CSS_SELECTOR,value='a[class=\"m-statement__name\"]')\n",
    "            name=name_box.text\n",
    "\n",
    "        except NoSuchElementException as e:\n",
    "            print('could not extract name')\n",
    "            \n",
    "        try: \n",
    "            data_box=result.find_element(by=By.CSS_SELECTOR,value='div[class=\"m-statement__desc\"]')\n",
    "            fact_date=data_box.text\n",
    "            #print(fact_date)\n",
    "            date_object = re.findall(r'(?:\\d{1,2} )?(?:Jan|Feb|Mar|Apr|May|Jun|Jul|Aug|Sep|Oct|Nov|Dec)[a-z]* (?:\\d{1,2}, )?\\d{2,4}',fact_date)\n",
    "            date = ' '.join(map(str, date_object))\n",
    "            #print(date)\n",
    "            platform_value=\"Platform is not mentioned\"\n",
    "            platform=get_platform(data_box.text,platform_value)\n",
    "            #print(platform)\n",
    "\n",
    "        except NoSuchElementException as e:\n",
    "            print('could not extract date')\n",
    "            \n",
    "        try: \n",
    "            review_text_box=result.find_element(by=By.CSS_SELECTOR,value='div[class=\"m-statement__quote\"]')\n",
    "            text=review_text_box.text\n",
    "            #print(text)\n",
    "\n",
    "        except NoSuchElementException as e:\n",
    "            print('could not extract text')\n",
    "            \n",
    "        try:\n",
    "            truthfullness_box=result.find_element(by=By.CSS_SELECTOR,value='div[class=\"m-statement__meter\"]')\n",
    "            truth_data = truthfullness_box.find_element(by=By.CSS_SELECTOR,value='img[class=\"c-image__thumb\"]')\n",
    "            truth = truth_data.get_attribute('alt')\n",
    "\n",
    "        except NoSuchElementException as e:\n",
    "            print('could not extract truthfullness_category')\n",
    "        \n",
    "        #write a new row for this story\n",
    "        writer.writerow([name,date,platform,text,truth])"
   ]
  },
  {
   "cell_type": "code",
   "execution_count": 22,
   "metadata": {},
   "outputs": [],
   "source": [
    "def scrape(driver,url):\n",
    "    delay:int = 15   # number of seconds to wait \n",
    "\n",
    "    driver.maximize_window()\n",
    "    driver.get(url)  # visit the page\n",
    "\n",
    "    #input() # wait until we can click on the cookie overlay\n",
    "\n",
    "    page_count = 1  # keep track of page count\n",
    "\n",
    "    # create a new csv writer for the review data\n",
    "    fw=open('Output.csv','w',encoding=\"utf-8\")  # output file\n",
    "\n",
    "    writer=csv.writer(fw,lineterminator='\\n')   # create a csv writer for this file\n",
    "    \n",
    "    writer.writerow(['Name','Date','Platform','Text','Truthfulness Category'])\n",
    "\n",
    "    while True: # keep going until there are no more pages\n",
    "\n",
    "        print(\"Page No: \",page_count)   # print current page count\n",
    "\n",
    "        page_count+=1   # increment page count\n",
    "\n",
    "        get_links_from_page(writer)    # extract and write the review data from the current page\n",
    "        \n",
    "        try:\n",
    "            # wait until the next button appears\n",
    "            next_button = WebDriverWait(driver, delay).until(EC.element_to_be_clickable((By.LINK_TEXT, 'Next'))) \n",
    "            \n",
    "            if (page_count == 5):  #test case for running upto 5 page\n",
    "                break\n",
    "        \n",
    "        except TimeoutException:\n",
    "            break\n",
    "\n",
    "        driver.execute_script(\"arguments[0].click();\", next_button)\n",
    "        time.sleep(delay)\n",
    "        \n",
    "    fw.close()    "
   ]
  },
  {
   "cell_type": "code",
   "execution_count": 23,
   "metadata": {},
   "outputs": [],
   "source": [
    "url = 'https://www.politifact.com/factchecks/list/?category=truth-o-meter&ruling='\n",
    "driver = webdriver.Chrome(service=Service(ChromeDriverManager().install())) "
   ]
  },
  {
   "cell_type": "code",
   "execution_count": 24,
   "metadata": {},
   "outputs": [
    {
     "name": "stdout",
     "output_type": "stream",
     "text": [
      "Page No:  1\n",
      "Page No:  2\n",
      "Page No:  3\n",
      "Page No:  4\n"
     ]
    }
   ],
   "source": [
    "scrape(driver,url)"
   ]
  }
 ],
 "metadata": {
  "kernelspec": {
   "display_name": "Python 3 (ipykernel)",
   "language": "python",
   "name": "python3"
  },
  "language_info": {
   "codemirror_mode": {
    "name": "ipython",
    "version": 3
   },
   "file_extension": ".py",
   "mimetype": "text/x-python",
   "name": "python",
   "nbconvert_exporter": "python",
   "pygments_lexer": "ipython3",
   "version": "3.10.5 (tags/v3.10.5:f377153, Jun  6 2022, 16:14:13) [MSC v.1929 64 bit (AMD64)]"
  },
  "vscode": {
   "interpreter": {
    "hash": "79f58b2da1d0ebeef0843b536b913fe6ecf5d6027e7f201d25bafe70c90b7910"
   }
  }
 },
 "nbformat": 4,
 "nbformat_minor": 2
}
