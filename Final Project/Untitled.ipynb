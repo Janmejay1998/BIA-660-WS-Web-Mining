{
 "cells": [
  {
   "cell_type": "code",
   "execution_count": 13,
   "id": "2d0e4137",
   "metadata": {},
   "outputs": [],
   "source": [
    "from sklearn.feature_extraction.text import CountVectorizer\n",
    "from sklearn.metrics import accuracy_score\n",
    "from sklearn.model_selection import train_test_split\n",
    "from sklearn.tree import DecisionTreeClassifier\n",
    "from sklearn.discriminant_analysis import LinearDiscriminantAnalysis\n",
    "from sklearn.neighbors import KNeighborsClassifier\n",
    "from sklearn.naive_bayes import GaussianNB\n",
    "from sklearn.linear_model import LogisticRegression\n",
    "from sklearn.svm import SVC\n",
    "import csv\n",
    "import pandas as pd\n",
    "from nltk.corpus import stopwords\n",
    "from sklearn.ensemble import VotingClassifier\n",
    "from sklearn.tree import DecisionTreeClassifier\n",
    "from sklearn.neighbors import KNeighborsClassifier\n",
    "from sklearn.svm import SVC"
   ]
  },
  {
   "cell_type": "code",
   "execution_count": 2,
   "id": "c95c1da6",
   "metadata": {},
   "outputs": [],
   "source": [
    "#read the reviews and their polarities from a given file\n",
    "def loadData(fname):\n",
    "    reviews=[]\n",
    "    labels=[]\n",
    "    f=open(fname)\n",
    "    for line in f:\n",
    "        review,rating=line.strip().split('\\t')  \n",
    "        reviews.append(review.lower())    \n",
    "        labels.append(int(rating))\n",
    "    f.close()\n",
    "    return reviews,labels\n"
   ]
  },
  {
   "cell_type": "code",
   "execution_count": 8,
   "id": "c87fab31",
   "metadata": {},
   "outputs": [],
   "source": [
    "def loadData(fname):\n",
    "    names=[]\n",
    "    dates=[]\n",
    "    years=[]\n",
    "    platforms=[]\n",
    "    texts=[]\n",
    "    truths=[]\n",
    "    f=pd.read_csv(fname)\n",
    "    for line in f:\n",
    "        names=f['Name']\n",
    "        dates=f['Date']\n",
    "        platforms=f['Platform']\n",
    "        texts=f['Text']\n",
    "        truths=f['Truthfulness Category']\n",
    "    for i in (0,len(truths)-1):\n",
    "        if truths[i]==\"true\" or truths[i]==\"mostly-true\":\n",
    "            truths[i]=\"true\"\n",
    "        if truths[i]==\"false\" or truths[i]==\"mostly-false\" or truths[i]=='pants-fire':\n",
    "            truths[i]=\"false\"\n",
    "          \n",
    "        \n",
    "    return texts,truths"
   ]
  },
  {
   "cell_type": "code",
   "execution_count": 9,
   "id": "bba47f56",
   "metadata": {},
   "outputs": [],
   "source": [
    "text,truth=loadData('data.csv')\n",
    "text_train,text_test,truth_train,truth_test=train_test_split(text,truth,test_size=0.3)\n",
    "\n",
    "#Build a counter based on the training dataset\n",
    "counter = CountVectorizer(stop_words=stopwords.words('english'))\n",
    "counter.fit(text_train)\n",
    "\n",
    "\n",
    "#count the number of times each term appears in a document and transform each doc into a count vector\n",
    "counts_train = counter.transform(text_train)#transform the training data\n",
    "counts_test = counter.transform(text_test)#transform the testing data"
   ]
  },
  {
   "cell_type": "code",
   "execution_count": 10,
   "id": "fbaae4b3",
   "metadata": {},
   "outputs": [
    {
     "name": "stdout",
     "output_type": "stream",
     "text": [
      "0.27001862197392923\n"
     ]
    }
   ],
   "source": [
    "#train classifier\n",
    "model1 = DecisionTreeClassifier()\n",
    "model2 = KNeighborsClassifier()\n",
    "model3= LogisticRegression(solver='liblinear')\n",
    "\n",
    "predictors=[('nb',model1),('dt',model2),('lreg',model3)]\n",
    "\n",
    "VT=VotingClassifier(predictors)\n",
    "\n",
    "#train all classifier on the same datasets\n",
    "VT.fit(counts_train,truth_train)\n",
    "\n",
    "#use hard voting to predict (majority voting)\n",
    "pred=VT.predict(counts_test)\n",
    "\n",
    "#print accuracy\n",
    "print (accuracy_score(pred,truth_test))"
   ]
  },
  {
   "cell_type": "code",
   "execution_count": 11,
   "id": "61047c18",
   "metadata": {},
   "outputs": [
    {
     "name": "stdout",
     "output_type": "stream",
     "text": [
      "0.24953445065176907\n"
     ]
    }
   ],
   "source": [
    "dtclf = DecisionTreeClassifier()\n",
    "\n",
    "#train all classifier on the same datasets\n",
    "dtclf.fit(counts_train,truth_train)\n",
    "\n",
    "#use hard voting to predict (majority voting)\n",
    "pred=dtclf.predict(counts_test)\n",
    "\n",
    "#print accuracy\n",
    "print (accuracy_score(pred,truth_test))\n"
   ]
  },
  {
   "cell_type": "code",
   "execution_count": 12,
   "id": "9afd3340",
   "metadata": {},
   "outputs": [
    {
     "name": "stdout",
     "output_type": "stream",
     "text": [
      "0.20577281191806332\n"
     ]
    }
   ],
   "source": [
    "kncclf = KNeighborsClassifier()\n",
    "\n",
    "#train all classifier on the same datasets\n",
    "kncclf.fit(counts_train,truth_train)\n",
    "\n",
    "#use hard voting to predict (majority voting)\n",
    "pred=kncclf.predict(counts_test)\n",
    "\n",
    "#print accuracy\n",
    "print (accuracy_score(pred,truth_test))"
   ]
  },
  {
   "cell_type": "code",
   "execution_count": 14,
   "id": "e7537e64",
   "metadata": {},
   "outputs": [
    {
     "name": "stdout",
     "output_type": "stream",
     "text": [
      "0.30074487895716945\n"
     ]
    }
   ],
   "source": [
    "svcclf = SVC()\n",
    "\n",
    "#train all classifier on the same datasets\n",
    "svcclf.fit(counts_train,truth_train)\n",
    "\n",
    "#use hard voting to predict (majority voting)\n",
    "pred=svcclf.predict(counts_test)\n",
    "\n",
    "#print accuracy\n",
    "print (accuracy_score(pred,truth_test))"
   ]
  },
  {
   "cell_type": "code",
   "execution_count": null,
   "id": "84a42261",
   "metadata": {},
   "outputs": [],
   "source": []
  }
 ],
 "metadata": {
  "kernelspec": {
   "display_name": "Python 3",
   "language": "python",
   "name": "python3"
  },
  "language_info": {
   "codemirror_mode": {
    "name": "ipython",
    "version": 3
   },
   "file_extension": ".py",
   "mimetype": "text/x-python",
   "name": "python",
   "nbconvert_exporter": "python",
   "pygments_lexer": "ipython3",
   "version": "3.10.5 (tags/v3.10.5:f377153, Jun  6 2022, 16:14:13) [MSC v.1929 64 bit (AMD64)]"
  },
  "vscode": {
   "interpreter": {
    "hash": "79f58b2da1d0ebeef0843b536b913fe6ecf5d6027e7f201d25bafe70c90b7910"
   }
  }
 },
 "nbformat": 4,
 "nbformat_minor": 5
}
