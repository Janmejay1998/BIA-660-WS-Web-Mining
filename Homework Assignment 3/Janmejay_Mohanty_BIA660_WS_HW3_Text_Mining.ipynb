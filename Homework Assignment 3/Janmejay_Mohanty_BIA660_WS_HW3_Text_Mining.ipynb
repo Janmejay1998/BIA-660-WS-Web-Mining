{
 "cells": [
  {
   "cell_type": "markdown",
   "metadata": {},
   "source": [
    "###### NAME: JANMEJAY MOHANTY <br> COURSE: BIA 660 WS <br> COURSE NAME: WEB MINING <br> CWID: 20009315 <br> EMAIL: JMOHANTY@STEVENS.EDU <br> PROGRAM: TEXT MINING"
   ]
  },
  {
   "cell_type": "code",
   "execution_count": 94,
   "metadata": {},
   "outputs": [],
   "source": [
    "# Importing natural language toolkit and csv libraries\n",
    "import csv\n",
    "import nltk\n",
    "from nltk.tokenize import sent_tokenize,word_tokenize"
   ]
  },
  {
   "cell_type": "code",
   "execution_count": 95,
   "metadata": {},
   "outputs": [],
   "source": [
    "# Function that loads a lexicon of positive words to a set and returns the set\n",
    "def loadLexicon(fname):\n",
    "    newLex=set()\n",
    "    lex_conn=open(fname)\n",
    "    \n",
    "    # Add every word in the file to the set\n",
    "    for line in lex_conn:\n",
    "        newLex.add(line.strip()) # Remember to strip to remove the lin-change character\n",
    "    lex_conn.close()\n",
    "\n",
    "    return newLex"
   ]
  },
  {
   "cell_type": "code",
   "execution_count": 96,
   "metadata": {},
   "outputs": [],
   "source": [
    "# Function for opinion that a review expresses on a noun\n",
    "def noun_expression(review_text):\n",
    "\n",
    "    # Load the positive and negative lexicons into sets\n",
    "    posLex=loadLexicon('positive-words.txt')\n",
    "    negLex=loadLexicon('negative-words.txt')\n",
    "\n",
    "    sentence = sent_tokenize(review_text) # Split the review into sentences\n",
    "\n",
    "    noun_sentiment = {} # Maps each noun to the number of times it appears in the same sentence as a positive or negative word\n",
    "\n",
    "    for i in range(len(sentence)):\n",
    "\n",
    "        pos = 0  # Postive words counts\n",
    "        neg = 0  # Negative words counts\n",
    "\n",
    "        nouns_in_sentence=set() # Set of all the nouns in the sentence\n",
    "\n",
    "        words = word_tokenize(sentence[i])  # Split the review into words\n",
    "\n",
    "        tagged_words = nltk.pos_tag(words)  # POS tagging for the words in the sentence\n",
    "\n",
    "        for tagged_word in tagged_words:\n",
    "\n",
    "            if tagged_word[1].startswith('NN'): # If the word is a noun\n",
    "                noun = tagged_word[0].lower()   # Lower case the noun\n",
    "                if len(noun)<3:continue         # Ignore nouns with less than 3 characters\n",
    "                nouns_in_sentence.add(noun)     # Add the noun to the set\n",
    "        \n",
    "            if tagged_word[1].startswith('JJ') and (tagged_word[0] in posLex):\n",
    "                pos+=1  # Positive word count\n",
    "            if tagged_word[1].startswith('JJ') and (tagged_word[0] in negLex):\n",
    "                neg+=1  # Negative word count\n",
    "            \n",
    "            for noun in nouns_in_sentence: # For each noun that we found in the sentence\n",
    "                noun_sentiment[noun]=noun_sentiment.get(noun,[(0,0)])+[(pos,neg)]\n",
    "\n",
    "        noun_dict = {} \n",
    "        for k,v in noun_sentiment.items():\n",
    "            res = [sum(tup) for tup in zip(*v)]\n",
    "            noun_dict[k]=res    \n",
    "\n",
    "        for k,v in noun_dict.items():\n",
    "            if(v[0]==v[1]):                  # P = v[0] and N = v[1]\n",
    "                noun_dict[k]='neutral'       # The review on the noun is neutral (P==N)\n",
    "            elif(v[0]>v[1]):\n",
    "                noun_dict[k]='positive'      # The review on the noun is positive (P>N)\n",
    "            else:\n",
    "                noun_dict[k]='negative'      # The review on the noun is negative (P<N)\n",
    "\n",
    "    return noun_dict                "
   ]
  },
  {
   "cell_type": "code",
   "execution_count": 97,
   "metadata": {},
   "outputs": [],
   "source": [
    "def parse(file,idx1,idx2):\n",
    "    \n",
    "    fin = open(file,encoding='utf8')\n",
    "\n",
    "    reader = csv.reader(fin)\n",
    "\n",
    "    reader = list(reader)\n",
    "    \n",
    "    review = []\n",
    "\n",
    "    review.append(reader[idx1-1])\n",
    "    review.append(reader[idx2-1])\n",
    "\n",
    "    #print(len(review))\n",
    "    #print(\"Review {}:\".format(idx1),review[0][0])\n",
    "    #print(\"_________________________________________________________________\")\n",
    "    #print(\"Review {}:\".format(idx2),review[1][0])\n",
    "\n",
    "    r1 = noun_expression(review[0][0])\n",
    "    r2 = noun_expression(review[1][0])      \n",
    "\n",
    "    opp_opinion = []       # Opposite opinion list\n",
    "\n",
    "    # Comparing positive vs negative opinion of two reviews\n",
    "    for k1,v1 in r1.items():\n",
    "        for k2,v2 in r2.items():\n",
    "            if (k1 == k2):\n",
    "                if (v1 != v2):\n",
    "                    opp_opinion.append(k1)\n",
    "                \n",
    "    fin.close()\n",
    "\n",
    "    return opp_opinion\n"
   ]
  },
  {
   "cell_type": "code",
   "execution_count": 98,
   "metadata": {},
   "outputs": [],
   "source": [
    "opposite_opinion = parse('amazonreviews.csv',1,2)       # parse('input_file','index of specific review', 'index of specific review')"
   ]
  },
  {
   "cell_type": "code",
   "execution_count": 99,
   "metadata": {},
   "outputs": [],
   "source": [
    "opposite_opinion.sort()          # Sorts normally in alphabetical order\n",
    "opposite_opinion.sort(key=len)   # Again sorts in ascending length order"
   ]
  },
  {
   "cell_type": "code",
   "execution_count": 100,
   "metadata": {},
   "outputs": [
    {
     "name": "stdout",
     "output_type": "stream",
     "text": [
      "Two reviews express an opposite opinion for the attribute:\n",
      " ['app', 'case', 'head', 'sony', 'time', 'noise', 'office', 'buttons', 'quality', 'support', 'headphones', 'sennheiser']\n"
     ]
    }
   ],
   "source": [
    "print(\"Two reviews express an opposite opinion for the attribute:\\n\",opposite_opinion)"
   ]
  }
 ],
 "metadata": {
  "kernelspec": {
   "display_name": "Python 3.10.5 64-bit",
   "language": "python",
   "name": "python3"
  },
  "language_info": {
   "codemirror_mode": {
    "name": "ipython",
    "version": 3
   },
   "file_extension": ".py",
   "mimetype": "text/x-python",
   "name": "python",
   "nbconvert_exporter": "python",
   "pygments_lexer": "ipython3",
   "version": "3.10.5"
  },
  "orig_nbformat": 4,
  "vscode": {
   "interpreter": {
    "hash": "79f58b2da1d0ebeef0843b536b913fe6ecf5d6027e7f201d25bafe70c90b7910"
   }
  }
 },
 "nbformat": 4,
 "nbformat_minor": 2
}
