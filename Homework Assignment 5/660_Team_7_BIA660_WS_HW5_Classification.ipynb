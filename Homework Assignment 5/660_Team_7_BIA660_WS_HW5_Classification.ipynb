{
 "cells": [
  {
   "cell_type": "markdown",
   "metadata": {},
   "source": [
    "###### TEAM: 660 TEAM 7 <br> TEAM MEMBERS NAME: JANMEJAY MOHANTY, PRANITA KHAMKAR, DIVYA SAGAR REDDY <br> COURSE: BIA 660 WS <br> COURSE NAME: WEB MINING <br> TEAM MEMBERS CWID'S: 20009315, 10476826, 10476472 <br> TEAM MEMBERS EMAIL'S: JMOHANTY@STEVENS.EDU, PKHAMKAR@STEVENS.EDU, DREDDY4@STEVENS.EDU <br> PROGRAM: Classification"
   ]
  },
  {
   "cell_type": "code",
   "execution_count": 1,
   "metadata": {},
   "outputs": [],
   "source": [
    "from sklearn.feature_extraction.text import TfidfVectorizer, CountVectorizer\n",
    "from sklearn import naive_bayes, svm\n",
    "from sklearn.metrics import accuracy_score\n",
    "from sklearn.linear_model import LogisticRegression\n",
    "from sklearn.linear_model import SGDClassifier"
   ]
  },
  {
   "cell_type": "code",
   "execution_count": 2,
   "metadata": {},
   "outputs": [],
   "source": [
    "\n",
    "#read the reviews and their polarities from a given file\n",
    "def loadData(fname):\n",
    "    reviews=[]\n",
    "    labels=[]\n",
    "    f=open(fname)\n",
    "    for line in f:\n",
    "        review,rating=line.strip().split('\\t') \n",
    "        reviews.append(review.lower())    \n",
    "        labels.append(int(rating))\n",
    "    f.close()\n",
    "    return reviews,labels\n",
    "\n",
    "rev_train,labels_train=loadData('reviews_train.txt')\n",
    "rev_test,labels_test=loadData('reviews_test.txt')\n",
    "\n",
    "\n",
    "#Build a counter based on the training dataset\n",
    "#counter = CountVectorizer(ngram_range=(2,3))\n",
    "counter = TfidfVectorizer(sublinear_tf=True,ngram_range=(1,2))\n",
    "counter.fit_transform(rev_train)\n",
    "\n",
    "\n",
    "#count the number of times each term appears in a document and transform each doc into a count vector\n",
    "counts_train = counter.transform(rev_train)#transform the training data\n",
    "counts_test = counter.transform(rev_test)#transform the testing data"
   ]
  },
  {
   "cell_type": "code",
   "execution_count": 3,
   "metadata": {},
   "outputs": [
    {
     "name": "stdout",
     "output_type": "stream",
     "text": [
      "91.33333333333333\n"
     ]
    }
   ],
   "source": [
    "clf = svm.SVC(C=1.4, kernel='linear', gamma='auto')\n",
    "\n",
    "#train all classifier on the same datasets\n",
    "clf.fit(counts_train,labels_train)\n",
    "\n",
    "#use hard voting to predict (majority voting)\n",
    "pred=clf.predict(counts_test)\n",
    "\n",
    "#print accuracy\n",
    "print (accuracy_score(pred,labels_test)*100)\n"
   ]
  },
  {
   "cell_type": "code",
   "execution_count": 4,
   "metadata": {},
   "outputs": [],
   "source": [
    "#clf = naive_bayes.MultinomialNB()\n",
    "#train all classifier on the same datasets\n",
    "#clf.fit(counts_train,labels_train)\n",
    "\n",
    "#use hard voting to predict (majority voting)\n",
    "#pred=clf.predict(counts_test)\n",
    "\n",
    "#print accuracy\n",
    "#print (accuracy_score(pred,labels_test)*100)\n"
   ]
  },
  {
   "cell_type": "code",
   "execution_count": 5,
   "metadata": {},
   "outputs": [],
   "source": [
    "#clf = LogisticRegression(max_iter=200)\n",
    "\n",
    "#clf.fit(counts_train,labels_train)\n",
    "\n",
    "#pred = clf.predict(counts_test)\n",
    "\n",
    "#print(accuracy_score(pred,labels_test)*100)"
   ]
  },
  {
   "cell_type": "code",
   "execution_count": 6,
   "metadata": {},
   "outputs": [
    {
     "name": "stdout",
     "output_type": "stream",
     "text": [
      "91.33333333333333\n"
     ]
    }
   ],
   "source": [
    "clf = SGDClassifier(loss='hinge',penalty='l2',alpha=0.001,max_iter=1000,tol=None)\n",
    "\n",
    "clf.fit(counts_train,labels_train)\n",
    "\n",
    "pred = clf.predict(counts_test)\n",
    "\n",
    "print(accuracy_score(pred,labels_test)*100)"
   ]
  }
 ],
 "metadata": {
  "kernelspec": {
   "display_name": "Python 3.10.5 64-bit",
   "language": "python",
   "name": "python3"
  },
  "language_info": {
   "codemirror_mode": {
    "name": "ipython",
    "version": 3
   },
   "file_extension": ".py",
   "mimetype": "text/x-python",
   "name": "python",
   "nbconvert_exporter": "python",
   "pygments_lexer": "ipython3",
   "version": "3.10.5"
  },
  "orig_nbformat": 4,
  "vscode": {
   "interpreter": {
    "hash": "79f58b2da1d0ebeef0843b536b913fe6ecf5d6027e7f201d25bafe70c90b7910"
   }
  }
 },
 "nbformat": 4,
 "nbformat_minor": 2
}
