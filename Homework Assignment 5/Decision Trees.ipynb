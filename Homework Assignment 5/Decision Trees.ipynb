{
 "cells": [
  {
   "cell_type": "code",
   "execution_count": 17,
   "id": "8463c4e6",
   "metadata": {},
   "outputs": [],
   "source": [
    "\"\"\"\n",
    "A simple script that demonstrates how we classify textual data with sklearn.\n",
    "\n",
    "\"\"\"\n",
    "\n",
    "from sklearn.feature_extraction.text import CountVectorizer\n",
    "from sklearn.metrics import accuracy_score\n",
    "from sklearn.tree import DecisionTreeClassifier\n"
   ]
  },
  {
   "cell_type": "code",
   "execution_count": 18,
   "id": "de8ce286",
   "metadata": {},
   "outputs": [],
   "source": [
    "\n",
    "#read the reviews and their polarities from a given file\n",
    "def loadData(fname):\n",
    "    reviews=[]\n",
    "    labels=[]\n",
    "    f=open(fname)\n",
    "    for line in f:\n",
    "        review,rating=line.strip().split('\\t')  \n",
    "        reviews.append(review.lower())    \n",
    "        labels.append(int(rating))\n",
    "    f.close()\n",
    "    return reviews,labels\n"
   ]
  },
  {
   "cell_type": "code",
   "execution_count": 19,
   "id": "00a6ad21",
   "metadata": {},
   "outputs": [],
   "source": [
    "\n",
    "rev_train,labels_train=loadData('reviews_train.txt')\n",
    "rev_test,labels_test=loadData('reviews_test.txt')\n",
    "\n",
    "\n",
    "#Build a counter based on the training dataset\n",
    "counter = CountVectorizer()\n",
    "counter.fit(rev_train)\n",
    "\n",
    "\n",
    "#count the number of times each term appears in a document and transform each doc into a count vector\n",
    "counts_train = counter.transform(rev_train)#transform the training data\n",
    "counts_test = counter.transform(rev_test)#transform the testing data\n"
   ]
  },
  {
   "cell_type": "code",
   "execution_count": 20,
   "id": "e7cfa8e3",
   "metadata": {},
   "outputs": [
    {
     "name": "stdout",
     "output_type": "stream",
     "text": [
      "0.7033333333333334\n"
     ]
    }
   ],
   "source": [
    "\n",
    "#train classifier\n",
    "clf = DecisionTreeClassifier()\n",
    "\n",
    "#train all classifier on the same datasets\n",
    "clf.fit(counts_train,labels_train)\n",
    "\n",
    "#use hard voting to predict (majority voting)\n",
    "pred=clf.predict(counts_test)\n",
    "\n",
    "#print accuracy\n",
    "print (accuracy_score(pred,labels_test))\n",
    "\n"
   ]
  },
  {
   "cell_type": "code",
   "execution_count": null,
   "id": "ceb74e25",
   "metadata": {},
   "outputs": [],
   "source": []
  }
 ],
 "metadata": {
  "kernelspec": {
   "display_name": "Python 3.10.5 64-bit",
   "language": "python",
   "name": "python3"
  },
  "language_info": {
   "codemirror_mode": {
    "name": "ipython",
    "version": 3
   },
   "file_extension": ".py",
   "mimetype": "text/x-python",
   "name": "python",
   "nbconvert_exporter": "python",
   "pygments_lexer": "ipython3",
   "version": "3.10.5"
  },
  "vscode": {
   "interpreter": {
    "hash": "79f58b2da1d0ebeef0843b536b913fe6ecf5d6027e7f201d25bafe70c90b7910"
   }
  }
 },
 "nbformat": 4,
 "nbformat_minor": 5
}
